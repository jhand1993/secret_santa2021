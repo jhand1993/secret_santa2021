{
 "cells": [
  {
   "cell_type": "code",
   "execution_count": 29,
   "metadata": {},
   "outputs": [],
   "source": [
    "from numpy import array, where\n",
    "from numpy.random import seed, choice\n",
    "\n",
    "# secret_seed = ?\n",
    "# seed(secret_seed)\n",
    "\n",
    "sibling_arr = array(\n",
    "    [\n",
    "        'Christine',\n",
    "        'Myles',\n",
    "        'Rorie',\n",
    "        'Jared',\n",
    "        'Andrew',\n",
    "        'Leaha'\n",
    "    ],\n",
    "    dtype=str\n",
    ")\n",
    "\n",
    "chosen = []\n",
    "for i, sibling in enumerate(sibling_arr):\n",
    "    pick = choice(sibling_arr, replace=False)\n",
    "    while pick == sibling or pick in chosen:\n",
    "        pick = choice(sibling_arr, replace=False)\n",
    "    \n",
    "    chosen.append(pick)\n",
    "\n",
    "final_dict = dict(zip(sibling_arr.tolist(), chosen))\n"
   ]
  },
  {
   "cell_type": "code",
   "execution_count": null,
   "metadata": {},
   "outputs": [],
   "source": []
  }
 ],
 "metadata": {
  "interpreter": {
   "hash": "6e72760e5d7d99da14aecb222c374db5edeaeeb6bb82b54bc30f4536a891c054"
  },
  "kernelspec": {
   "display_name": "Python 3.9.5 64-bit ('nsflm': conda)",
   "name": "python3"
  },
  "language_info": {
   "codemirror_mode": {
    "name": "ipython",
    "version": 3
   },
   "file_extension": ".py",
   "mimetype": "text/x-python",
   "name": "python",
   "nbconvert_exporter": "python",
   "pygments_lexer": "ipython3",
   "version": "3.9.5"
  },
  "orig_nbformat": 4
 },
 "nbformat": 4,
 "nbformat_minor": 2
}
